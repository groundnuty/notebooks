{
 "metadata": {
  "name": "Zadanie2"
 },
 "nbformat": 3,
 "nbformat_minor": 0,
 "worksheets": [
  {
   "cells": [
    {
     "cell_type": "markdown",
     "metadata": {},
     "source": [
      "### Zadanie 2: Analiza liczb Fibonaciego.\n",
      "\n",
      "Zmartwi\u0142o mnie bardzo, i\u017c\u00a0nie zd\u0105zy\u0142em wyt\u0142umaczy\u0107\u00a0jednemu z Pa\u0144stwa dzia\u0142ania wersji iteracyjnej liczb fibinaciego, tak wi\u0119c zrobi\u0105\u00a0to Pa\u0144stwo w ramach zadania ;)\n",
      "\n",
      "Znalaz\u0142em taki oto program:\n",
      "\n",
      "    [http://pythontutor.com/visualize.html](http://pythontutor.com/visualize.html)\n",
      "\n",
      "Barodz u\u0142\u0105twiaj\u0105cy analize przebiego programu - krok po kroku.\n",
      "\n",
      "Wchodzimy na powy\u017cszy link i klikamy **Visualize Exacution** tego przk\u0142adowego programu co tam jest.\n",
      "\n",
      "Zauwa\u017camy przyciski **First**, **Back**, **Forward** i **Last**. Klikamy, bawimy si\u0119 i u\u015bwiadamiamy sobie \u017ce to co sie\u00a0rysuje po prawej stronie pokazuje kolejne kroki wykonywanai sie tego programu - na zywo!!!\n",
      "\n",
      "Wracam na [http://pythontutor.com/visualize.html](http://pythontutor.com/visualize.html).\n",
      "\n",
      "Zwracamy uwage na opcje:\n",
      "    \n",
      "    * Python 2.7\n",
      "    * hide frames fo exited functions \n",
      "    * inline primitives and nested objects\n",
      "    * itp\n",
      "    \n",
      "W tracie wykonywania tego zadania b\u0119dziemy chcieli mie\u0107 te 5 opcjo ustawionych na kolejno:\n",
      "\n",
      "    * Python 2.7\n",
      "    * show frames fo exited functions \n",
      "    * inline primitives and nested objects\n",
      "    * show environment parent pointers\n",
      "    * draw references using arrows\n",
      "    * show everything\n",
      "    \n",
      "\n",
      "Zaczniemy od przyk\u0142adowje analizy programu z zaj\u0119\u0107:\n",
      "    "
     ]
    },
    {
     "cell_type": "code",
     "collapsed": false,
     "input": [
      "def formatuj_nazwisko(nazwisko):\n",
      "    return \"Moje nazwisko to \" +nazwisko\n",
      "\n",
      "def formatuj_imie(imie):\n",
      "    return \"Nazywam sie \"+imie\n",
      "\n",
      "def wypisz_dane(imie,nazwisko):\n",
      "    print formatuj_imie(imie)\n",
      "    print formatuj_nazwisko(nazwisko)    \n",
      "wypisz_dane('Jan','Kowalski')"
     ],
     "language": "python",
     "metadata": {},
     "outputs": []
    },
    {
     "cell_type": "markdown",
     "metadata": {},
     "source": [
      "Wklejamy go, ustawiamy opcje jak opisa\u0142em wy\u017cej i klikamy **Visualize Exacution**.\n",
      "\n",
      "Zwrcamy uwag\u0119 na \"Step 1 of 14\". Step znaczy 'krok' po angielsku i kolejno b\u0119dziemy te kroki opisywa\u0107. Kolejno klikamy **Forward** i patrzymy co sie dzieje.\n",
      "Raczej zwracaj\u0105c uwage na strza\u0142k\u0119 o kolo\u017ce zielonym kt\u00f3re pokazuj w\u0142a\u015bnei wykonan\u0105 linie (ta czerwona pokazuje to co b\u0119dzie wykonane jako kolejne).\n",
      "\n",
      "* w krokach 1-4 python znajduje nasze definicje funkcj i je zapami\u0119tuje\n",
      "* w kroku 5 znajduej wywo\u0142anie funkcji z warto\u015bciami \"Jan\" i \"Kowalski\", w 6tym przeskakuje do definicji fukcji *wypisz_dane* \n",
      "* w 7dnym znajduej wywo\u0142anie *formatuj_imie* z argumentem \"Jan\", w 8smym przeskakuje do definicji funkcji *formatuj_imie*, w kroku 9tym zwraca warto\u015b\u0107\u00a0\"Nazywam si\u0119\u00a0Jan\" i ko\u0144czy swoej wywo\u0142anie\n",
      "* kroki 11-13 to to samo co wy\u017cej dla funkcji *formatuj_nazwisko*\n",
      "* w kroku 14 wracamu do do funkcji *wypisz_dane* i nast\u0119pnue ko\u0144czymy program.\n",
      "\n",
      "Widz\u0105c jak to wszystko dzia\u0142a i maj\u0105c \u015bwiadomo\u015b\u0107\u00a0ze w razie pyta\u0144 mo\u017cna pisa\u0107 na [Google Group](https://groups.google.com/forum/?hl=en#!forum/lo2agh2013)\n",
      "\n",
      "Przechodzimy do analizy przyk\u0142\u0105du z zaj\u0119\u0107 kt\u00f3ry do\u015b\u0107\u00a0\u017carliwie zosta\u0142 om\u00f3wiony:\n"
     ]
    },
    {
     "cell_type": "code",
     "collapsed": false,
     "input": [
      "def wartosc_bezwgzledna(x):\n",
      "\tif( x > 0 ):\n",
      "\t\treturn x\n",
      "\telse:\n",
      "\t\treturn -x\n",
      "print wartosc_bezwgzledna(-6)"
     ],
     "language": "python",
     "metadata": {},
     "outputs": []
    },
    {
     "cell_type": "code",
     "collapsed": false,
     "input": [
      "def wartosc_bezwgzledna(x):\n",
      "\tif( x > 0 ):\n",
      "\t\tprint x\n",
      "\telse:\n",
      "        print -x\n",
      "    print \"Jacke :)\"\n",
      "wartosc_bezwgzledna(-6)"
     ],
     "language": "python",
     "metadata": {},
     "outputs": []
    },
    {
     "cell_type": "markdown",
     "metadata": {},
     "source": [
      "Prosz\u0119 odpali\u0107 obydwa te przyk\u0142ady analogicznie jak to zrobili\u015bmy z pierwszym i odpowiedzie\u0107\u00a0sobie na pytanie: wywo\u0142awszy funkcje wartosc_bezwgzledna z argumentem -6 (jak w przyk\u0142adzie) - w kt\u00f3rym miejscu opu\u015bcimy funkcj\u0119 *wartosc_bezwgzledna*:\n",
      "        \n",
      "        1) w wersji u\u017cywaj\u0105cej return\n",
      "        2) a w kt\u00f3rej lini w wersji u\u017cywaj\u0105cej print\n",
      "        \n",
      "Tego tyczy\u0142a si\u0119\u00a0de facto d\u0142uga dyskusja na zaj\u0119ciach.\n",
      "        \n",
      "    \n",
      "    \n",
      "Nast\u0119pnie prosz\u0119 pobawi\u0107\u00a0si\u0119\u00a0funkcja\u00a0silnia w postaci iteracyjnej i rekurencyjnej:"
     ]
    },
    {
     "cell_type": "code",
     "collapsed": false,
     "input": [
      "#Iteracyjnie\n",
      "def silnia_it(x):\n",
      "    silnia=1\n",
      "    for x in xrange(1,x+1):\n",
      "        silnia*=x\n",
      "    return silnia\n",
      "print silnia_it(4)"
     ],
     "language": "python",
     "metadata": {},
     "outputs": []
    },
    {
     "cell_type": "code",
     "collapsed": false,
     "input": [
      "#Rekurencyjnie\n",
      "def silnia_rek(x):\n",
      "    if(x>1):\n",
      "        return x*silnia_rek(x-1)\n",
      "    return x\n",
      "print silnia_rek(4)"
     ],
     "language": "python",
     "metadata": {},
     "outputs": []
    },
    {
     "cell_type": "markdown",
     "metadata": {},
     "source": [
      "Podczas analizy prosz\u0119 zaobserwowa\u0107 \u017ce:\n",
      "    \n",
      "    * wersja iteracyjna jest podpisana \"Step 1 of 15\" a rekurencyjna \"Step 1 of 18\" - czyli iteracyjna potrzebuje 15 krok\u00f3w a rekurencyjna 18. Niby obie licz\u0105 to samo. Dlaczego tak jest?\n",
      "    * badaj\u0105c ten fenomen prosze wywo\u0142a\u0107 obydwe wersje dla warto\u015bci 5 i 6 - r\u00f3znica ilo\u015bci potrzbenych krok\u00f3w si\u0119 bardzo pog\u0142\u0119bi...\n",
      "    * prosz\u0119 zr\u00f3wi\u0107\u00a0uwage jak \u0142adnie w wersji rekurencyjne te wszystkie wywo\u0142anai si\u0119 pod koniec 'zwiaj\u0105'\n",
      "    * natomiast w wersji iteracyjnej jak niewiele si\u0119\u00a0rysuje, i generalnie jak czytelnie to na rysunku wygl\u0105da\n",
      "    \n",
      "\n",
      "Dla odwa\u017cnych: mog\u0105 Pa\u0144stwo spr\u00f3bowa\u0107 przeanalizowa\u0107\u00a0tak\u0105 (b\u0142\u0119dnie napisan\u0105) wersje funkcji silnia:\n"
     ]
    },
    {
     "cell_type": "code",
     "collapsed": false,
     "input": [
      "#Rekurencyjnie\n",
      "def silnia_rek(x):\n",
      "        return x*silnia_rek(x-1)\n",
      "print silnia_rek(4)"
     ],
     "language": "python",
     "metadata": {},
     "outputs": []
    },
    {
     "cell_type": "markdown",
     "metadata": {},
     "source": [
      "Nie ma ona warunku stopu wi\u0119c b\u0119dzie wykonywa\u0142a si\u0119\u00a0niesko\u0144czenie. Prosz\u0119 sprawdzi\u0107\u00a0czy analiser wybuchnie czy nie :)\n",
      "\n",
      "Na koniec nasz Fibonacci! Prosz\u0119 tak samo przeanalizowa\u0107."
     ]
    },
    {
     "cell_type": "code",
     "collapsed": false,
     "input": [
      "#Wersja rekurencyjna\n",
      "def fib_rek(n):\n",
      "    if n == 0:\n",
      "        return 0\n",
      "    elif n == 1:\n",
      "        return 1\n",
      "    else:\n",
      "        return fib_rek(n-1) + fib_rek(n-2)\n"
     ],
     "language": "python",
     "metadata": {},
     "outputs": []
    },
    {
     "cell_type": "code",
     "collapsed": false,
     "input": [
      "# Wersja iteracyjna\n",
      "def fib_it(n):\n",
      "    a = 0\n",
      "    b = 1\n",
      "    for i in range(n):\n",
      "        tmp = b\n",
      "        b = a + b\n",
      "        a = tmp\n",
      "    return a\n"
     ],
     "language": "python",
     "metadata": {},
     "outputs": []
    },
    {
     "cell_type": "markdown",
     "metadata": {},
     "source": [
      "### Temat Zadania 2\n",
      "W Zadaniu 1 zmodyfikowali\u015bmy funkcj\u0119\u00a0*silnia* tak w ka\u017cdym kroku chwali\u0142a si\u0119 tym co si\u0119 w niej dzieje.\n",
      "Prosz\u0119 analogicznie - z wykorzystaniem funkcji:\n",
      "    \n",
      "    * format()\n",
      "    * log.info()\n",
      "    \n",
      "sprawi\u0107\u00a0by iteracyjna wersja funkcji licz\u0105cje ciag fibianciego (fib_it), spowiada\u0142a si\u0119\u00a0z tego co si\u0119 w niej dzieje.\n",
      "\n",
      "Celem tego \u0107wiczenia jest pokazanie przez Pa\u0144sta, \u017ce rozumiej\u0105\u00a0Pa\u0144stwo jak ta funkcja dzia\u0142a.\n",
      "Do opisania kolejnych krok\u00f3w prosz\u0119\u00a0u\u017cy\u0107\u00a0w\u0142asnych s\u0142\u00f3w. Je\u015bli kto\u015b\u00a0totalnie nie wie jak sie\u00a0za funkcj\u0119\u00a0*fib_it* zabra\u0107 (a sczerze probowa\u0142!) to mo\u017ce w drodze wyjatku zmodyfikowa\u0107 wersje rekurencyjn\u0105.\n",
      "\n",
      "\n",
      "Zadanie prosze zapisa\u0107\u00a0w pliku: <swoje_imie>_<swoje_nazwisko>_lab3.py\n",
      "I wys\u0142a\u0107 mi mailem na adres: morzech@agh.edu.pl\n",
      "    \n",
      "W razie pyta\u0144 [Google Groups](https://groups.google.com/forum/?hl=en#!forum/lo2agh2013)!\n"
     ]
    }
   ],
   "metadata": {}
  }
 ]
}