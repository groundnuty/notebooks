{
 "metadata": {
  "name": "Zadanie1"
 },
 "nbformat": 3,
 "nbformat_minor": 0,
 "worksheets": [
  {
   "cells": [
    {
     "cell_type": "markdown",
     "metadata": {},
     "source": [
      "## Zadanie 1: Analiza dzialania programu.\n",
      "Pisz\u0105c programy pope\u0142niamy b\u0142\u0119dy :)\n",
      "\n",
      "Na pocz\u0105tku sa to poste do wykrycia b\u0142\u0119dy w sk\u0142\u0105dni. Wtedy m\u0105dry Python rzuci w nas b\u0142\u0119dem, powie o kt\u00f3ra linijk\u0119\u00a0chodzi i dzi\u0119ki temu mamy jaka\u015b wskaz\u00f3wk\u0119 co porapwi\u0107.\n",
      "\n",
      "Niestety nie zawsze jest tak r\u00f3\u017cowo ;(\n",
      "                                      \n",
      "W wi\u0119kszo\u015bci przypakd\u00f3w program dzia\u0142a ale... nie robi tego co powinien. Wypisuje jakie\u015b\u00a0wyniki, nie mniej nie s\u0105 to poprawne odpowiedzi. By temu zaradzi\u0107 ka\u017cdy m\u0142ody programista dochodzi do wniosku \u017ce dobrze jest by program chwali\u0142 si\u0119 (wypisywa\u0142 na ekran) co robi na ka\u017cdym etapie. Fachowo ten taki proces nazywa si\u0119\u00a0**logowaniem** (nie myli\u0107\u00a0z logowaniem sie np. na Facebooka). Bardzo u\u0142atwia on naprawe programu, pomaga w jego ew. modyfikacji oraz samym tworzeniu.\n",
      "\n",
      "Wi\u0119kszo\u015b\u0107 programist\u00f3w u\u017cywa do tego celu print - od tego zaczniemy.\n",
      " \n",
      "We\u017amy sobie nasz\u0105 przem\u0119czona\u00a0na pi\u0105t\u0105 ju\u017c\u00a0stron\u0119\u00a0funkcj\u0119\u00a0silns i sprawmy by chwali\u0142a si\u0119 swoim dzia\u0142aniem:"
     ]
    },
    {
     "cell_type": "code",
     "collapsed": false,
     "input": [
      "def silnia_it(x):\n",
      "    silnia=1\n",
      "    print \"Inicjalizacja zmiennej silnia na wartoosc\", silnia\n",
      "    print \"Wchodze do petli\"\n",
      "    for x in xrange(1,x+1):\n",
      "        print \"wykonuje petle dla wartosci x=\", x ,\" wartosc zmiennej silnia wynosi silnia=\",silnia\n",
      "        silnia*=x\n",
      "    print \"Opuscilem petle\"\n",
      "    print \"Zwracam wartosc silnia\",silnia\n",
      "    return silnia\n",
      "print silnia_it(4)"
     ],
     "language": "python",
     "metadata": {},
     "outputs": [
      {
       "output_type": "stream",
       "stream": "stdout",
       "text": [
        "Inicjalizacja zmiennej silnia na wartoosc 1\n",
        "Wchodze do petli\n",
        "wykonuje petle dla wartosci x= 1  wartosc zmiennej silnia wynosi silnia= 1\n",
        "wykonuje petle dla wartosci x= 2  wartosc zmiennej silnia wynosi silnia= 1\n",
        "wykonuje petle dla wartosci x= 3  wartosc zmiennej silnia wynosi silnia= 2\n",
        "wykonuje petle dla wartosci x= 4  wartosc zmiennej silnia wynosi silnia= 6\n",
        "Opuscilem petle\n",
        "Zwracam wartosc silnia 24\n",
        "24\n"
       ]
      }
     ],
     "prompt_number": 58
    },
    {
     "cell_type": "markdown",
     "metadata": {},
     "source": [
      "I w ten spos\u00f3b masa, nawet do\u015bwiadczonych programist\u00f3w sprawdza jak dzia\u0142a kawa\u0142ek kodu :)\n",
      "wzbogacaj\u0105\u00a0go o mase print-\u00f3w by wiedzie\u0107 jak program si\u0119\u00a0zachowuje podczas dzia\u0142ania.\n",
      "Mogliby\u015bmy kontunuowa\u0107\u00a0t\u0105\u00a0sci\u0119\u017ck\u0119, nie mniej od razu nauczym si\u0119\u00a0jak si\u0119\u00a0to robi profesjonalnie :)\n",
      "\n",
      "Wyzej podstawione podejscie ma kilka problem\u00f3w:\n",
      "Nie da si\u0119\u00a0prosto uciszy\u0107\u00a0funkcji. Powiedzmy ze juz wiem jak dzia\u0142a, juz nie chce by mi za\u015bmieca\u0142a ekran,\n",
      "chcemy j\u0105\u00a0wykorzysta\u0107 i skupic\u00a0si\u0119\u00a0na komunikatach z innych cz\u0119\u015bci kodu. Jedyne co mo\u017cna zrobi\u0107\u00a0to \n",
      "zakomentowa\u0107 wszystkie printy."
     ]
    },
    {
     "cell_type": "code",
     "collapsed": false,
     "input": [
      "def silnia_it(x):\n",
      "    silnia=1\n",
      "    #print \"Inicjalizacja zmiennej silnia na wartoosc\", silnia\n",
      "    #print \"Wchodze do petli\"\n",
      "    for x in xrange(1,x+1):\n",
      "        #print \"wykonuje petle dla wartosci x=\", x ,\" wartosc zmiennej silnia wynosi silnia=\",silnia\n",
      "        silnia*=x\n",
      "    #print \"Opuscilem petle\"\n",
      "    #print \"Zwracam wartosc silnia\",silnia\n",
      "    return silnia\n",
      "print silnia_it(4)"
     ],
     "language": "python",
     "metadata": {},
     "outputs": [
      {
       "output_type": "stream",
       "stream": "stdout",
       "text": [
        "24\n"
       ]
      }
     ],
     "prompt_number": 48
    },
    {
     "cell_type": "markdown",
     "metadata": {},
     "source": [
      "Przy 5ciu printach to jeszcze moze ma sens, przy wiekszej ilosci - szanujmy swoj czas :)\n",
      "ponadto gdy znowu b\u0119dziemy chcieli by funckja nam raportowa\u0142a co robi, znowu trzeba b\u0119dzie odkomentowa\u0107\u00a0wszystko...\n",
      "\n",
      "By ten stan rzeczy naprawic nauczymy si\u0119 najapierw jednej rzeczy rzeczy **formatowania string\u00f3w**.\n",
      "Dotychczas gdy chcielismy wypisac na ekranie:\n",
      "\n"
     ]
    },
    {
     "cell_type": "code",
     "collapsed": false,
     "input": [
      "imie=\"Jacek\"\n",
      "print \"Mam na imie\",imie"
     ],
     "language": "python",
     "metadata": {},
     "outputs": [
      {
       "output_type": "stream",
       "stream": "stdout",
       "text": [
        "Mam na imie Jacek\n"
       ]
      }
     ],
     "prompt_number": 49
    },
    {
     "cell_type": "markdown",
     "metadata": {},
     "source": [
      "u\u017cywali\u015bmy print: nasz string, nastepnie przecinek, a potem zmienna.\n",
      "Chc\u0105c wypisa\u0107 co\u015b odrobinie bardziej skomplikowanego trzba by\u0142o troche tych przecink\u00f3w nawstawia\u0107"
     ]
    },
    {
     "cell_type": "code",
     "collapsed": false,
     "input": [
      "imie=\"Jacek\"\n",
      "nazwisko=\"Kowalski\"\n",
      "print \"Mam na imie\",imie,\"a moje nazwisko to\",nazwisko"
     ],
     "language": "python",
     "metadata": {},
     "outputs": [
      {
       "output_type": "stream",
       "stream": "stdout",
       "text": [
        "Mam na imie Jacek a moje nazwisko to Kowalski\n"
       ]
      }
     ],
     "prompt_number": 50
    },
    {
     "cell_type": "markdown",
     "metadata": {},
     "source": [
      "da si\u0119\u00a0tak na kr\u00f3tk\u0105 met\u0119 nie mniej nie jest to zbyt wygodne...\n",
      "zmienne poniewieraj\u0105\u00a0si\u0119\u00a0nam po ca\u0142ej wiadomosci kt\u00f3r\u0105 chcemy wypisa\u0107:"
     ]
    },
    {
     "cell_type": "code",
     "collapsed": false,
     "input": [
      "imie=\"Jacek\"\n",
      "nazwisko=\"Kowalski\"\n",
      "print imie, nazwisko, \"jest uczniem 2 LO.\",imie,\" uczeszcza na zajecia z inforamtyki na AGH.\",imie,\" pilnie sie uczy choc lekko nie ma ;)\".format(imie,nazwisko)\n",
      "\n"
     ],
     "language": "python",
     "metadata": {},
     "outputs": [
      {
       "output_type": "stream",
       "stream": "stdout",
       "text": [
        "Jacek Kowalski jest uczniem 2 LO. Jacek  uczeszcza na zajecia z inforamtyki na AGH. Jacek  pilnie sie uczy choc lekko nie ma ;)\n"
       ]
      }
     ],
     "prompt_number": 51
    },
    {
     "cell_type": "markdown",
     "metadata": {},
     "source": [
      "Ratuje nas funckja \"format\" kt\u00f3rej u\u017cywamy tak\n"
     ]
    },
    {
     "cell_type": "code",
     "collapsed": false,
     "input": [
      "imie=\"Jacek\"\n",
      "print \"Mam na imie {0}\".format(imie)"
     ],
     "language": "python",
     "metadata": {},
     "outputs": [
      {
       "output_type": "stream",
       "stream": "stdout",
       "text": [
        "Mam na imie Jacek\n"
       ]
      }
     ],
     "prompt_number": 52
    },
    {
     "cell_type": "markdown",
     "metadata": {},
     "source": [
      "funkcja format jest wywolywana 'na' stringu  \"Mam na imie {0}\". \n",
      "z argumentem \"imie\". To dziwne {0} jest to swoisty identyfikator za\n",
      "kt\u00f3ry funkcja format wstawi nam pierwszy (zerowy) argument.\n",
      "\n",
      "i analogicznie przyklad dalej\n"
     ]
    },
    {
     "cell_type": "code",
     "collapsed": false,
     "input": [
      "imie=\"Jacek\"\n",
      "nazwisko=\"Kowalski\"\n",
      "print \"Mam na imie {0} a moje nazwisko to {1}\".format(imie,nazwisko)\n"
     ],
     "language": "python",
     "metadata": {},
     "outputs": [
      {
       "output_type": "stream",
       "stream": "stdout",
       "text": [
        "Mam na imie Jacek a moje nazwisko to Kowalski\n"
       ]
      }
     ],
     "prompt_number": 53
    },
    {
     "cell_type": "markdown",
     "metadata": {},
     "source": [
      "Za {0} wstawia nam wartosc zmiennej imie, za {1} wartosc nazwiska.\n",
      "\n",
      "Przyklad pokazuj\u0105cy lepiej dlaczego tak lubimy format:\n"
     ]
    },
    {
     "cell_type": "code",
     "collapsed": false,
     "input": [
      "imie=\"Jacek\"\n",
      "nazwisko=\"Kowalski\"\n",
      "print \"{0} {1} jest uczniem 2 LO. {0} uczeszcza na zajecia z inforamtyki na AGH. {0} pilnie sie uczy choc lekko nie ma ;)\".format(imie,nazwisko)\n"
     ],
     "language": "python",
     "metadata": {},
     "outputs": [
      {
       "output_type": "stream",
       "stream": "stdout",
       "text": [
        "Jacek Kowalski jest uczniem 2 LO. Jacek uczeszcza na zajecia z inforamtyki na AGH. Jacek pilnie sie uczy choc lekko nie ma ;)\n"
       ]
      }
     ],
     "prompt_number": 54
    },
    {
     "cell_type": "markdown",
     "metadata": {},
     "source": [
      "Widizmy ze mozemu uzyc {0} i {1} gdzie chcemy i ile razy chcemy! \n",
      "Prosze si\u0119\u00a0tym mechanizmem format pobawi\u0107. Pe\u0142en przyk\u0142ad z silni\u0105 z format zamiast print:\n",
      "\n"
     ]
    },
    {
     "cell_type": "code",
     "collapsed": false,
     "input": [
      "def silnia_it(x):\n",
      "    silnia=1\n",
      "    print \"Inicjalizacja zmiennej silnia na wartoosc {0}\".format(silnia)\n",
      "    print \"Wchodze do petli\"\n",
      "    for x in xrange(1,x+1):\n",
      "        print \"wykonuje petle dla wartosci x={0} wartosc zmiennej wynosi silnia={1}\".format(x,silnia)\n",
      "        silnia*=x\n",
      "    print \"Opuscilem petle\"\n",
      "    return silnia\n",
      "print silnia_it(4)\n"
     ],
     "language": "python",
     "metadata": {},
     "outputs": [],
     "prompt_number": 63
    },
    {
     "cell_type": "markdown",
     "metadata": {},
     "source": [
      "Mam nadzieje ze jest to jasne, w razie dosya\u0142em do naszej [Google Group](https://groups.google.com/forum/#!forum/lo2agh2013)\n",
      "\n",
      "Znaj\u0105c ju\u017c\u00a0tajniki **formatowania**, wr\u00f3\u0107my do tematu **logowania**.\n",
      "\n",
      "Mam dla Pa\u0144stwa w tym miejscu jedn\u0105\u00a0z\u0142\u0105\u00a0wiadomo\u015b\u0107. By to logowanie dzia\u0142a\u0142o trzeba umie\u015bci\u0107\u00a0na pocz\u0105tku pogramu 7 lini kodu kt\u00f3re na razie przyjmiemy 'na wiar\u0119' ;) Po kr\u00f3tce odpowiadaj\u0105 one za:\n",
      "    \n",
      "* zaimportowanie modu\u0142u *logging* (linia 3cia)\n",
      "* stwo\u017cenie loggera (linia 4rta i 5ta)\n",
      "* na koniec stawiamy co nam b\u0119dzie wypisywa\u0142 (linia 6sta)\n",
      "\n",
      "Nie przejmujemy si\u0119 nimi generalnie. Kopiujemy na pocz\u0105tek swojego programu. I od tej pory zamist\n",
      "\n",
      "`print \"costam\"`\n",
      "\n",
      "bedziemy pisac:\n",
      "    \n",
      "`log.info(\"costam\")`\n",
      "    \n",
      "W przypadku gdy chcemy jeszcze wypisc zmienna to zamist:\n",
      "    \n",
      "```x = 5\n",
      "print \"wartosc = \",x```\n",
      "\n",
      "b\u0119dziemy uzywac formatowania:\n",
      "    \n",
      "```x = 5\n",
      "log.info(\"wartosc = {0}\".format(x))```\n",
      "\n",
      "\n",
      "Poni\u017cej mamy pe\u0142en przyk\u0142ad funkcji silnia kt\u00f3ra chwali si\u0119\u00a0swoj\u0105\u00a0prac\u0105 przy pomocy wszystkiego przedstawionego wtym zadaniu.\n",
      "\n"
     ]
    },
    {
     "cell_type": "code",
     "collapsed": false,
     "input": [
      "#Poni\u017csze 6 lini prosz\u0119 uzna\u0107\u00a0za 'magie' :) i wziac to na wiare ze tak ma by\u0107\u00a0;)\n",
      "#Kopiowa\u0107 na pocz\u0105tek programu i b\u0119dzie wszystko dzia\u0142a\u0107.\n",
      "import logging\n",
      "logging.basicConfig(format=\"[%(levelname)s]: %(message)s\",level=logging.ERROR)\n",
      "log = logging.getLogger()\n",
      "#Ta linijka odpowiada za w\u0142\u0105zcenie logowanie. Zakomentowac ponizsza linijke by wylaczyc logi\n",
      "log.setLevel(logging.DEBUG)\n",
      "\n",
      "def silnia_it(x):\n",
      "    silnia=1\n",
      "    log.info(\"Inicjalizacja zmiennej silnia na wartoosc {0}\".format(silnia))\n",
      "    log.info(\"Wchodze do petli\")\n",
      "    for x in xrange(1,x+1):\n",
      "        log.info(\"wykonuje petle dla wartosci x={0} wartosc zmiennej wynosi silnia={1}\".format(x,silnia))\n",
      "        silnia*=x\n",
      "    log.info(\"Opuscilem petle\")\n",
      "    return silnia\n",
      "print silnia_it(4)\n",
      "\n"
     ],
     "language": "python",
     "metadata": {},
     "outputs": [
      {
       "ename": "SyntaxError",
       "evalue": "invalid syntax (<ipython-input-64-d89ef94d9523>, line 1)",
       "output_type": "pyerr",
       "traceback": [
        "\u001b[1;36m  File \u001b[1;32m\"<ipython-input-64-d89ef94d9523>\"\u001b[1;36m, line \u001b[1;32m1\u001b[0m\n\u001b[1;33m    [$Number]\u001b[0m\n\u001b[1;37m     ^\u001b[0m\n\u001b[1;31mSyntaxError\u001b[0m\u001b[1;31m:\u001b[0m invalid syntax\n"
       ]
      }
     ],
     "prompt_number": 64
    },
    {
     "cell_type": "markdown",
     "metadata": {},
     "source": [
      "Pi\u0119kno tego rozwi\u0105zania polega na tym: gdy zakomentujemy 7dm\u0105\u00a0linie:"
     ]
    },
    {
     "cell_type": "code",
     "collapsed": false,
     "input": [
      "#Poni\u017csze 6 lini prosz\u0119 uzna\u0107\u00a0za 'magie' :) i wziac to na wiare ze tak ma by\u0107\u00a0;)\n",
      "#Kopiowa\u0107 na pocz\u0105tek programu i b\u0119dzie wszystko dzia\u0142a\u0107.\n",
      "import logging\n",
      "logging.basicConfig(format=\"[%(levelname)s]: %(message)s\",level=logging.ERROR)\n",
      "log = logging.getLogger()\n",
      "#Ta linijka odpowiada za w\u0142\u0105zcenie logowanie. Zakomentowac ponizsza linijke by wylaczyc logi\n",
      "#log.setLevel(logging.DEBUG)\n",
      "\n",
      "def silnia_it(x):\n",
      "    silnia=1\n",
      "    log.info(\"Inicjalizacja zmiennej silnia na wartoosc {0}\".format(silnia))\n",
      "    log.info(\"Wchodze do petli\")\n",
      "    for x in xrange(1,x+1):\n",
      "        log.info(\"wykonuje petle dla wartosci x={0} wartosc zmiennej wynosi silnia={1}\".format(x,silnia))\n",
      "        silnia*=x\n",
      "    log.info(\"Opuscilem petle\")\n",
      "    return silnia\n",
      "print silnia_it(4)\n"
     ],
     "language": "python",
     "metadata": {},
     "outputs": [
      {
       "output_type": "stream",
       "stream": "stdout",
       "text": [
        "24\n"
       ]
      }
     ],
     "prompt_number": 77
    },
    {
     "cell_type": "markdown",
     "metadata": {},
     "source": [
      "## Temat Zadania 1\n",
      "Zadanie 1 polega na przeczytaniu raz jeszcze tego tekstu, odpaleniu wszystkich przyklad\u00f3w i upewnieniu si\u0119\u00a0ze wszystko jest zrozumia\u0142e :)"
     ]
    }
   ],
   "metadata": {}
  }
 ]
}