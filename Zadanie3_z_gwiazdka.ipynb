{
 "metadata": {
  "name": "Zadanie3_z_gwiazdka"
 },
 "nbformat": 3,
 "nbformat_minor": 0,
 "worksheets": [
  {
   "cells": [
    {
     "cell_type": "markdown",
     "metadata": {},
     "source": [
      "### Zadanie 3 z Gwiazdk\u0105:\n",
      "> Rzecz jasna nadobowi\u0105zkowe.\n",
      "\n",
      "Kontynuj\u0105c temat sortowa\u0144 z ostatniego zadanai z *.\n",
      "\n",
      "Ka\u017cdy z Pa\u0144stwa wymy\u015bli\u0142/znalaz\u0142 jak\u0105\u015b funckje sortuj\u0105c\u0105. \n",
      "Podejdziemy teraz do tematu troche konkretniej.\n",
      "\n",
      "Otwieramy (http://en.wikipedia.org/wiki/Sorting_algorithm)[http://en.wikipedia.org/wiki/Sorting_algorithm]\n",
      "i czytamy na temat:\n",
      "    \n",
      "    * Insertion sort\n",
      "    * Selection sort\n",
      "    * Bubble sort\n",
      "    \n",
      "W miare mo\u017cliwo\u015bci na pon lub jak tam si\u0119\u00a0Pa\u0144stwo wyrobi\u0105. Chcia\u0142bym by:\n",
      "    * przeanalizowali Pa\u0144stwo czym r\u00f3\u017cni\u0105\u00a0si\u0119\u00a0te 3 sposoby\n",
      "    * zaimplementowali je w pythonie i opisali w\u0142asnymi s\u0142owami co Pa\u0144stwa zdaniem dane sortowanie robi\n",
      "    * przeanalizowali czy wszystkie dzia\u0142aj\u0105\u00a0r\u00f3wnie sprawnie sortuj\u0105 czy mo\u017ce kt\u00f3ry\u015b\u00a0z nich sprawdza si\u0119 lepiej dla du\u017cych danych? je\u015bli tak to dlaczego?\n",
      "    * sprawdzili czy by\u0107 mo\u017ce napisane przez Pa\u0144stwa sortowanie w porpzednim zdaniu z * nie by\u0142o podobne do kt\u00f3rego\u015b\u00a0z tych.\n",
      "    \n",
      "Zadanie mo\u017cna (w jednym pliku wszystkie 3 sortowania) podes\u0142a\u0107 mi na maila: morzech.agh.edu.pl\n",
      "    plik prosz\u0119\u00a0nazwa\u0107 np. <swoje_imie>_<nazwisko>_lab3_sortowania.py\n",
      "\n",
      "Je\u015bli Pa\u0144stwu dobrze to p\u00f3jdzie to kolejnym tematem zadania z gwiazdka\u00a0b\u0119dzie Merge Sort w wersji rekurencyjnej i przerabianie go na wersje iteracyjn\u0105 ;)\n",
      "\n",
      "Owocnej pracy!\n",
      "\n"
     ]
    },
    {
     "cell_type": "code",
     "collapsed": false,
     "input": [],
     "language": "python",
     "metadata": {},
     "outputs": []
    }
   ],
   "metadata": {}
  }
 ]
}