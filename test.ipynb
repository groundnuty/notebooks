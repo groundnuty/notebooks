{
 "metadata": {
  "name": "test"
 },
 "nbformat": 3,
 "nbformat_minor": 0,
 "worksheets": [
  {
   "cells": [
    {
     "cell_type": "markdown",
     "metadata": {},
     "source": [
      "1. First ordered list item\n",
      "2. Another item\n",
      "    * Unordered sub-list. "
     ]
    },
    {
     "cell_type": "code",
     "collapsed": false,
     "input": [
      "print \"test\""
     ],
     "language": "python",
     "metadata": {},
     "outputs": []
    },
    {
     "cell_type": "code",
     "collapsed": false,
     "input": [
      "import logging\n",
      "logging.basicConfig(format=\"[%(levelname)s]: %(message)s\",level=logging.ERROR)\n",
      "log = logging.getLogger()\n",
      "\n",
      "#Zakomentowac ponizsza linijke by wylaczyc logi\n",
      "log.setLevel(logging.DEBUG)\n",
      "\n",
      "def silnia_it(x):\n",
      "    silnia=1\n",
      "    log.info(\"Inicjalizacja zmiennej silnia na wartoosc {0}\".format(silnia))\n",
      "    log.info(\"Wchodze do petli\")\n",
      "    for x in xrange(1,x+1):\n",
      "        log.info(\"wykonuje petle dla wartosci x={0} wartosc zmiennej wynosi silnia={1}\".format(x,silnia))\n",
      "        silnia*=x\n",
      "    log.info(\"Opuscilem petle\")\n",
      "    return silnia\n",
      "print silnia_it(4)\n"
     ],
     "language": "python",
     "metadata": {},
     "outputs": [
      {
       "output_type": "stream",
       "stream": "stderr",
       "text": [
        "[INFO]: Inicjalizacja zmiennej silnia na wartoosc 1\n"
       ]
      },
      {
       "output_type": "stream",
       "stream": "stderr",
       "text": [
        "[INFO]: Wchodze do petli\n"
       ]
      },
      {
       "output_type": "stream",
       "stream": "stderr",
       "text": [
        "[INFO]: wykonuje petle dla wartosci x=1 wartosc zmiennej wynosi silnia=1\n"
       ]
      },
      {
       "output_type": "stream",
       "stream": "stderr",
       "text": [
        "[INFO]: wykonuje petle dla wartosci x=2 wartosc zmiennej wynosi silnia=1\n"
       ]
      },
      {
       "output_type": "stream",
       "stream": "stderr",
       "text": [
        "[INFO]: wykonuje petle dla wartosci x=3 wartosc zmiennej wynosi silnia=2\n"
       ]
      },
      {
       "output_type": "stream",
       "stream": "stderr",
       "text": [
        "[INFO]: wykonuje petle dla wartosci x=4 wartosc zmiennej wynosi silnia=6\n"
       ]
      },
      {
       "output_type": "stream",
       "stream": "stderr",
       "text": [
        "[INFO]: Opuscilem petle\n"
       ]
      },
      {
       "output_type": "stream",
       "stream": "stdout",
       "text": [
        "24\n"
       ]
      }
     ],
     "prompt_number": 5
    },
    {
     "cell_type": "code",
     "collapsed": false,
     "input": [],
     "language": "python",
     "metadata": {},
     "outputs": []
    }
   ],
   "metadata": {}
  }
 ]
}